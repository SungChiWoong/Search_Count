{
 "cells": [
  {
   "cell_type": "code",
   "execution_count": null,
   "id": "1b4a9d4f",
   "metadata": {},
   "outputs": [],
   "source": [
    "import pandas as pd\n",
    "import numpy as np\n",
    "import datetime\n",
    "import random\n",
    "import os\n",
    "import sys\n",
    "import matplotlib.pyplot as plt\n",
    "import seaborn as sns\n",
    "\n",
    "import sklearn\n",
    "from sklearn.ensemble import VotingRegressor, RandomForestRegressor, GradientBoostingRegressor\n",
    "from sklearn.preprocessing import LabelEncoder, OneHotEncoder, MinMaxScaler, RobustScaler, StandardScaler\n",
    "from sklearn.metrics import mean_squared_error\n",
    "from sklearn.model_selection import train_test_split,RandomizedSearchCV,GridSearchCV\n",
    "from sklearn.feature_selection import f_regression, SelectKBest\n",
    "from xgboost import XGBRegressor\n",
    "from catboost import CatBoostRegressor\n",
    "from sklearn.linear_model import Lasso, LogisticRegression\n",
    "from lightgbm import LGBMRegressor\n",
    "import warnings\n",
    "warnings.filterwarnings('ignore')"
   ]
  },
  {
   "cell_type": "code",
   "execution_count": null,
   "id": "d504a123",
   "metadata": {},
   "outputs": [],
   "source": [
    "print(f\"파이썬 버전 : {sys.version}\")\n",
    "print(f\"pandas 버전 : {pd.__version__}\")\n",
    "print(f\"numpy 버전 : {np.__version__}\")\n",
    "print(f\"sklearn 버전 : {sklearn.__version__}\")"
   ]
  },
  {
   "cell_type": "code",
   "execution_count": null,
   "id": "59b09ee1",
   "metadata": {},
   "outputs": [],
   "source": [
    "def seed_everything(seed: int = 2024):\n",
    "    random.seed(seed)\n",
    "    np.random.seed(seed)\n",
    "    os.environ[\"PYTHONHASHSEED\"] = str(seed)\n",
    "seed_everything(2024)"
   ]
  },
  {
   "cell_type": "code",
   "execution_count": null,
   "id": "c81cc4ef",
   "metadata": {},
   "outputs": [],
   "source": [
    "#데이터 로드\n",
    "\n",
    "train = pd.read_csv(\"./train.csv\")\n",
    "test = pd.read_csv(\"./test.csv\")"
   ]
  },
  {
   "cell_type": "code",
   "execution_count": null,
   "id": "abfca62e",
   "metadata": {},
   "outputs": [],
   "source": [
    "# keyword에 NAN값들을 하나의 값으로 정의\n",
    "# 굳이 필요한 과정은 아님\n",
    "\n",
    "train['keyword'].fillna('Category4_Keyword_618', inplace=True)\n",
    "test['keyword'].fillna('Category4_Keyword_618', inplace=True)\n",
    "train['referral_path'].fillna('Category6_Path_1577', inplace=True)\n",
    "test['referral_path'].fillna('Category6_Path_1577', inplace=True)"
   ]
  },
  {
   "cell_type": "code",
   "execution_count": null,
   "id": "3fa4ca04",
   "metadata": {},
   "outputs": [],
   "source": [
    "#browserr값 중 앞은 같으나 뒤가 랜덤변수로 다른 값들이 있었음. 이것들을 두 개의 값으로 나눠 통일\n",
    "\n",
    "train.loc[(25<=train['browser'].map(len))&(train['browser'].map(len)<=28),'browser']='case1'\n",
    "test.loc[(25<=test['browser'].map(len))&(test['browser'].map(len)<=28),'browser']='case1'\n",
    "train.loc[train['browser'].map(len)>=29,'browser']='CT_JOB_ID'\n",
    "test.loc[test['browser'].map(len)>=29,'browser']='CT_JOB_ID'\n",
    "\n",
    "#browser값에 따른 target의 값이 모두 1인 것들을 굳이 나누지 않고 하나로 통일하는 코드\n",
    "bro = pd.DataFrame(train.groupby('browser',as_index=True)['TARGET'].mean())\n",
    "bro_1 = bro[bro['TARGET']==1.0].index\n",
    "for i in range(len(train)):\n",
    "    if train.loc[i,'browser'] in bro_1:\n",
    "        train.loc[i,'browser']='set_1'\n",
    "        \n",
    "for k in range(len(test)):\n",
    "    if test.loc[k,'browser'] in bro_1:\n",
    "        test.loc[k,'browser']='set_1'"
   ]
  },
  {
   "cell_type": "code",
   "execution_count": null,
   "id": "2992a776",
   "metadata": {},
   "outputs": [],
   "source": [
    "#bounced가 1인 값들은 몯두 타겟값이 1이었음. 따라서, 제외하고 나중에 처리\n",
    "\n",
    "train.drop(train[train['bounced']==1].index, inplace=True)\n",
    "test.drop(test[test['bounced']==1].index, inplace=True)"
   ]
  },
  {
   "cell_type": "code",
   "execution_count": null,
   "id": "5325ef54",
   "metadata": {},
   "outputs": [],
   "source": [
    "# 이상치 전처리르 하려했으나, 하지 않는것의 정확도가 더 높았음\n",
    "\n",
    "# train.drop(train[train['transaction']==12].index, inplace = True)\n",
    "\n",
    "# train.drop(train[train['transaction_revenue']>=1*(10**9)].index, inplace = True)\n",
    "\n",
    "# train.loc[(25<=train['browser'].map(len))&(train['browser'].map(len)<=28),'browser']='case1'\n",
    "\n",
    "# train.loc[train['browser'].map(len)>=29,'browser']='CT_JOB_ID'\n",
    "\n",
    "# test.loc[(25<=test['browser'].map(len))&(test['browser'].map(len)<=28),'browser']='case1'\n",
    "\n",
    "# test.loc[test['browser'].map(len)>=29,'browser']='CT_JOB_ID'\n",
    "\n",
    "# train.drop(train[train['TARGET']>=350].index, inplace = True)\n",
    "\n",
    "# train.drop(train[train['duration']>=6000].index, inplace = True)\n",
    "# train.drop(train[train['TARGET']>=100].index, inplace = True)\n",
    "# train.drop(train[(train['new']==0) & (train['TARGET']>=120)].index,inplace=True)\n",
    "# train.drop(train[(train['new']==1) & (train['TARGET']>=130)].index,inplace=True)\n",
    "# train.drop(train[(train['OS']=='Windows') & (train['TARGET']>=100)].index,inplace=True)\n",
    "# train.drop(train[(train['OS']=='Chrome OS') & (train['TARGET']>=80)].index,inplace=True)\n",
    "# train.drop(train[(train['OS']=='Xbox') & (train['TARGET']>=15)].index,inplace=True)\n",
    "# train.drop(train[(train['OS']=='Playstation Vita') & (train['TARGET']>=3)].index,inplace=True)\n",
    "# train.drop(train[(train['subcontinent']=='Southern Asia') & (train['TARGET']>=100)].index,inplace=True)\n",
    "# train.drop(train[(train['subcontinent']=='Southern Africa') & (train['TARGET']>=100)].index,inplace=True)"
   ]
  },
  {
   "cell_type": "code",
   "execution_count": null,
   "id": "35942545",
   "metadata": {},
   "outputs": [],
   "source": [
    "# train.drop(train[train['bounced']==1].index,inplace=True)\n",
    "train = train.drop(columns=['sessionID','userID','bounced'],axis=1)\n",
    "\n",
    "# test_bounced = test[test['bounced']==1]\n",
    "# test.drop(test[test['bounced']==1].index,inplace=True)\n",
    "# test_ID=test['sessionID']\n",
    "test = test.drop(columns=['sessionID','userID','bounced'],axis=1)\n",
    "\n",
    "\n",
    "test1=pd.read_csv('./test.csv')"
   ]
  },
  {
   "cell_type": "code",
   "execution_count": null,
   "id": "dc1df743",
   "metadata": {},
   "outputs": [],
   "source": [
    "#browser가 (not set)인 경우 처리\n",
    "# test_ns = test[test['browser']=='(not set)']\n",
    "# test.drop(test[test['browser']=='(not set)'].index,inplace=True)\n",
    "# test_ns2 = pd.concat([test_ns,test[(test['country']=='Turks & Caicos Islands') | (test['country']=='Gambia')]],axis=1)\n",
    "# test.drop(test[(test['country']=='Turks & Caicos Islands') | (test['country']=='Gambia')].index,inplace=True)"
   ]
  },
  {
   "cell_type": "code",
   "execution_count": null,
   "id": "60aa27c8",
   "metadata": {},
   "outputs": [],
   "source": [
    "# 빈 값을 최대값으로 바꿈\n",
    "# lst_col=['browser','country','traffic_source','keyword','referral_path']\n",
    "# for col in lst_col:\n",
    "#     test\n",
    "#     mx = test.value_counts(col).idxmax()\n",
    "#     lst=train[col].unique()\n",
    "#     for k in range(len(test)):\n",
    "#         if test.loc[k,col] not in lst:\n",
    "#             test.loc[k,col]=mx\n",
    "    "
   ]
  },
  {
   "cell_type": "code",
   "execution_count": null,
   "id": "bccce32d",
   "metadata": {},
   "outputs": [],
   "source": [
    "# encoding_target = list(train.dtypes[train.dtypes == \"object\"].index)\n",
    "\n",
    "#너무 다양한 독립변수 제거\n",
    "# train.drop(columns=['keyword','traffic_source','referral_path'],inplace=True)\n",
    "# test.drop(columns=['keyword','traffic_source','referral_path'],inplace=True)"
   ]
  },
  {
   "cell_type": "code",
   "execution_count": null,
   "id": "6a8b76b7",
   "metadata": {},
   "outputs": [],
   "source": [
    "#인덱스 정렬\n",
    "train = train.reset_index(drop=True)\n",
    "test = test.reset_index(drop=True)"
   ]
  },
  {
   "cell_type": "code",
   "execution_count": null,
   "id": "10a54ea4",
   "metadata": {},
   "outputs": [],
   "source": [
    "#범주값 인코딩\n",
    "\n",
    "encoding_target = list(train.dtypes[train.dtypes == \"object\"].index)\n",
    "for obj in encoding_target:\n",
    "    ohe = OneHotEncoder(handle_unknown='ignore',sparse_output=False)\n",
    "    ary = np.array(train[obj]).reshape(-1,1)\n",
    "    ohe.fit(ary)\n",
    "    cols = train[obj].unique()\n",
    "    i=0\n",
    "    for e in cols:\n",
    "        cols[i]=obj+cols[i]\n",
    "        i+=1\n",
    "    train = pd.concat([train,pd.DataFrame(ohe.transform(np.array(train[obj]).reshape(-1,1)),index=list(range(len(train))), columns=cols)],axis=1)\n",
    "    test = pd.concat([test,pd.DataFrame(ohe.transform(np.array(test[obj]).reshape(-1,1)),index=list(range(len(test))), columns=cols)],axis=1)"
   ]
  },
  {
   "cell_type": "code",
   "execution_count": null,
   "id": "e859b035",
   "metadata": {},
   "outputs": [],
   "source": [
    "#인코딩한 변수의 기존 값 제거\n",
    "train.drop(columns=encoding_target, inplace=True)\n",
    "test.drop(columns=encoding_target, inplace=True)"
   ]
  },
  {
   "cell_type": "code",
   "execution_count": null,
   "id": "e9e17c5a",
   "metadata": {},
   "outputs": [],
   "source": [
    "#X, Y 나누기\n",
    "train_x = train.drop(columns=['TARGET'])\n",
    "train_y = train['TARGET']"
   ]
  },
  {
   "cell_type": "code",
   "execution_count": null,
   "id": "dfb687cf",
   "metadata": {},
   "outputs": [],
   "source": [
    "#train, val 나누기\n",
    "Train = train_x.copy()\n",
    "Y = train_y.copy()\n",
    "train_x, val_x, train_y, val_y = train_test_split(train_x, train_y, test_size=0.1, random_state=2024, shuffle=True)"
   ]
  },
  {
   "cell_type": "code",
   "execution_count": null,
   "id": "7c6f17d0",
   "metadata": {},
   "outputs": [],
   "source": [
    "#train값에 맞춰 val도 변환\n",
    "selector = SelectKBest(score_func=f_regression, k=20)\n",
    "#학습데이터에 fit_transform \n",
    "X_train_selected = selector.fit_transform(X_train, y_train)\n",
    "#테스트 데이터는 transform\n",
    "X_test_selected = selector.transform(X_test)\n",
    "X_train_selected.shape, X_test_selected.shape"
   ]
  },
  {
   "cell_type": "code",
   "execution_count": null,
   "id": "7e2d13a4",
   "metadata": {},
   "outputs": [],
   "source": [
    "#하이퍼 파라미터 조정\n",
    "params = {\n",
    "    'n_estimators': [200, 500, 1000, 2000], \n",
    "    'learning_rate': [0.1, 0.05, 0.01], \n",
    "    'max_depth': [9,10,11], \n",
    "    'colsample_bytree': [0.8, 0.9, 1.0], \n",
    "    'subsample': [0.8, 0.9, 1.0],\n",
    "}\n",
    "\n",
    "\n",
    "# n_iter 값을 조절하여 몇 회의 시도를 할 것인지 설정\n",
    "clf = RandomizedSearchCV(LGBMRegressor(), params, random_state=2024, cv=3, n_iter=25, scoring='neg_mean_squared_error')\n",
    "\n",
    "clf.fit(train_x, train_y)\n",
    "\n",
    "clf.best_score_"
   ]
  },
  {
   "cell_type": "code",
   "execution_count": null,
   "id": "77c41646",
   "metadata": {},
   "outputs": [],
   "source": [
    "clf.best_params_"
   ]
  },
  {
   "cell_type": "markdown",
   "id": "e823666c",
   "metadata": {},
   "source": [
    "## LGBM"
   ]
  },
  {
   "cell_type": "code",
   "execution_count": null,
   "id": "c4b76ee5",
   "metadata": {},
   "outputs": [],
   "source": [
    "#LGBM\n",
    "lgbm = LGBMRegressor(subsample= 1.0,\n",
    "                     n_estimators= 1000,\n",
    "                     max_depth= 9,\n",
    "                     learning_rate= 0.01,\n",
    "                     colsample_bytree= 0.8)\n",
    "\n",
    "lgbm.fit(train_x, train_y)\n",
    "\n",
    "pred_lgbm = lgbm.predict(val_x)\n",
    "for idx in range(len(pred_lgbm)):\n",
    "    if pred_lgbm[idx]<1:\n",
    "        pred_lgbm[idx]=1\n",
    "pred_lgbm"
   ]
  },
  {
   "cell_type": "markdown",
   "id": "4227ee3d",
   "metadata": {},
   "source": [
    "## XGBoost"
   ]
  },
  {
   "cell_type": "code",
   "execution_count": null,
   "id": "e6acbfa4",
   "metadata": {
    "scrolled": true
   },
   "outputs": [],
   "source": [
    "#XGBoost\n",
    "xgb = XGBRegressor(n_estimators = 1000, random_state = 2024, learning_rate = 0.01, max_depth = 10)\n",
    "\n",
    "xgb.fit(train_x, train_y)\n",
    "\n",
    "pred_xgb = xgb.predict(val_x)\n",
    "for idx in range(len(pred_xgb)):\n",
    "    if pred_xgb[idx]<1:\n",
    "        pred_xgb[idx]=1\n",
    "pred_xgb"
   ]
  },
  {
   "cell_type": "code",
   "execution_count": null,
   "id": "384bab77",
   "metadata": {},
   "outputs": [],
   "source": [
    "mean_squared_error(val_y, pred_lgbm, squared=False)\n",
    "mean_squared_error(val_y, np.round(pred_lgbm), squared=False)\n",
    "mean_squared_error(val_y, pred_xgb, squared=False)\n",
    "mean_squared_error(val_y, np.round(pred_xgb), squared=False)"
   ]
  },
  {
   "cell_type": "markdown",
   "id": "39fd6da1",
   "metadata": {},
   "source": [
    "## Voting"
   ]
  },
  {
   "cell_type": "code",
   "execution_count": null,
   "id": "eb98ca16",
   "metadata": {},
   "outputs": [],
   "source": [
    "#보팅 방법 확인\n",
    "xgb = XGBRegressor(n_estimators = 1000, random_state = 2024, learning_rate = 0.01, max_depth = 10)\n",
    "\n",
    "lgbm = LGBMRegressor(subsample= 1.0,\n",
    "                     n_estimators= 1000,\n",
    "                     max_depth= 10,\n",
    "                     learning_rate= 0.01,\n",
    "                     colsample_bytree= 0.8)\n",
    "\n",
    "vote_model = VotingRegressor(\n",
    "    estimators =[(\"lgbm\",lgbm), (\"xgb\", xgb)]\n",
    ")\n",
    "\n",
    "\n",
    "vote_model.fit(train_x, train_y)\n",
    "\n",
    "pred_vote = vote_model.predict(val_x)\n",
    "for idx in range(len(pred_vote)):\n",
    "    if pred_vote[idx]<1:\n",
    "        pred_vote[idx]= 1\n",
    "pred_vote"
   ]
  },
  {
   "cell_type": "code",
   "execution_count": null,
   "id": "abc3577d",
   "metadata": {},
   "outputs": [],
   "source": [
    "mean_squared_error(val_y, pred_vote, squared=False)\n",
    "mean_squared_error(val_y, np.round(pred_vote), squared=False)"
   ]
  },
  {
   "cell_type": "markdown",
   "id": "fe0e249d",
   "metadata": {},
   "source": [
    "## Stacking"
   ]
  },
  {
   "cell_type": "code",
   "execution_count": null,
   "id": "5ca62188",
   "metadata": {},
   "outputs": [],
   "source": [
    "#캐스팅 방법 구현\n",
    "new_train = pd.concat([pd.DataFrame(np.round(pred_lgbm),columns=['pred_lgbm']), pd.DataFrame(np.round(pred_xgb),columns=['pred_xgb'])], axis=1)"
   ]
  },
  {
   "cell_type": "code",
   "execution_count": null,
   "id": "5c3a001f",
   "metadata": {},
   "outputs": [],
   "source": [
    "new_train['TARGET']=Y"
   ]
  },
  {
   "cell_type": "code",
   "execution_count": null,
   "id": "347d5833",
   "metadata": {},
   "outputs": [],
   "source": [
    "stacking = RandomForestRegressor().fit(new_train.drop(['best_quality']), new_train['best_quality'])"
   ]
  },
  {
   "cell_type": "code",
   "execution_count": null,
   "id": "6baf54c5",
   "metadata": {},
   "outputs": [],
   "source": [
    "pred_stacking = stacking.predict(val_x)\n",
    "for idx in range(len(pred_stacking)):\n",
    "    if pred_stacking[idx]<1:\n",
    "        pred_stacking[idx]= 1\n",
    "pred_stacking"
   ]
  },
  {
   "cell_type": "code",
   "execution_count": null,
   "id": "999e4c7b",
   "metadata": {},
   "outputs": [],
   "source": [
    "pred_lgbm_test = lgbm.predict(test)\n",
    "for idx in range(len(pred_lgbm_test)):\n",
    "    if pred_lgbm_test[idx]<0:\n",
    "        pred_lgbm_test[idx]= 0\n",
    "\n",
    "pred_xgb_test = xgb.predict(test)\n",
    "for idx in range(len(pred_xgb_test)):\n",
    "    if pred_xgb_test[idx]<0:\n",
    "        pred_xgb_test[idx]= 0\n",
    "\n",
    "new_test = pd.concat([pd.DataFrame(pred_lgbm_test,columns=['pred_lgbm']), pd.DataFrame(pred_xgb_test,columns=['pred_xgb'])], axis=1)"
   ]
  },
  {
   "cell_type": "code",
   "execution_count": null,
   "id": "311bec1b",
   "metadata": {},
   "outputs": [],
   "source": [
    "Pred = stacking.predict(new_test)"
   ]
  },
  {
   "cell_type": "code",
   "execution_count": null,
   "id": "97a52bbc",
   "metadata": {},
   "outputs": [],
   "source": [
    "test1=pd.read_csv('./test.csv')\n",
    "\n",
    "test1[\"TARGET\"]=Pred\n",
    "test1[test1['bounced']==1]['TARGET']=1\n",
    "\n",
    "result = test1[[\"sessionID\",\"TARGET\"]]\n",
    "result.to_csv('./lgbm_xgb.csv', index=False)"
   ]
  }
 ],
 "metadata": {
  "kernelspec": {
   "display_name": "chat",
   "language": "python",
   "name": "chat"
  },
  "language_info": {
   "codemirror_mode": {
    "name": "ipython",
    "version": 3
   },
   "file_extension": ".py",
   "mimetype": "text/x-python",
   "name": "python",
   "nbconvert_exporter": "python",
   "pygments_lexer": "ipython3",
   "version": "3.9.12"
  }
 },
 "nbformat": 4,
 "nbformat_minor": 5
}
